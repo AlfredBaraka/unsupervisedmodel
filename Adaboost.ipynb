{
 "cells": [
  {
   "cell_type": "code",
   "execution_count": 23,
   "id": "39b864ee-72c1-4bf3-b144-908a0022e3a0",
   "metadata": {},
   "outputs": [],
   "source": [
    "#import module, utility functions and datasets\n",
    "from sklearn.datasets import load_breast_cancer\n",
    "from sklearn.ensemble import AdaBoostClassifier\n",
    "from sklearn.neighbors import KNeighborsClassifier\n",
    "from sklearn.tree import DecisionTreeClassifier\n",
    "from sklearn.metrics import roc_auc_score\n",
    "from sklearn.model_selection import train_test_split\n",
    "import numpy as np\n",
    "\n",
    "# set seed for reproducibility\n",
    "SEED = 3\n",
    "cancer = load_breast_cancer()\n",
    "\n",
    "# split data train to test 70% to 30%\n",
    "X_train, X_test, y_train, y_test = train_test_split(cancer.data, cancer.target, test_size=0.3, stratify = cancer.target, random_state=SEED)\n",
    "\n",
    "# Instantiate a classification-tree 'dt'\n",
    "dt = DecisionTreeClassifier(max_depth=1, random_state = SEED)\n",
    "\n",
    "# init adaBoost classifier 'adab_clf'\n",
    "adb_clf = AdaBoostClassifier(estimator = dt, n_estimators= 100)\n",
    "\n",
    "#fit 'adb_clf' to the training set\n",
    "adb_clf.fit(X_train, y_train)\n",
    "\n",
    "#predict the test set probability of positive class\n",
    "y_pred_proba = adb_clf.predict_proba(X_test)[:,1]\n",
    "\n",
    "\n",
    "\n",
    "# Evaluate test-set roc_auc_score\n",
    "adb_clf_roc_auc_score = roc_auc_score(y_test, y_pred_proba)"
   ]
  },
  {
   "cell_type": "code",
   "execution_count": 22,
   "id": "01ce057f-0426-4edb-9f43-b5ff7f88632c",
   "metadata": {},
   "outputs": [
    {
     "name": "stdout",
     "output_type": "stream",
     "text": [
      "WELCOME TO BREAST CANCER DATA ANALYSIS USE ADABOOST\n",
      "THE  ROC AUC SCORE IS 0.99\n"
     ]
    }
   ],
   "source": [
    "print(\"WELCOME TO BREAST CANCER DATA ANALYSIS USE ADABOOST\")\n",
    "print(\"THE  ROC AUC SCORE IS {:.2f}\".format(adb_clf_roc_auc_score))"
   ]
  },
  {
   "cell_type": "code",
   "execution_count": null,
   "id": "d94c259a-833f-4186-80e5-9d0ecfd4afab",
   "metadata": {},
   "outputs": [],
   "source": []
  }
 ],
 "metadata": {
  "kernelspec": {
   "display_name": "Python 3 (ipykernel)",
   "language": "python",
   "name": "python3"
  },
  "language_info": {
   "codemirror_mode": {
    "name": "ipython",
    "version": 3
   },
   "file_extension": ".py",
   "mimetype": "text/x-python",
   "name": "python",
   "nbconvert_exporter": "python",
   "pygments_lexer": "ipython3",
   "version": "3.12.1"
  }
 },
 "nbformat": 4,
 "nbformat_minor": 5
}
