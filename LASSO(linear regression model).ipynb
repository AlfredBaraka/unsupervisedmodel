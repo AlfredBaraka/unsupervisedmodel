{
 "cells": [
  {
   "cell_type": "code",
   "execution_count": 23,
   "id": "de3bce22-6749-43c8-8c11-ae3e2a8cb481",
   "metadata": {},
   "outputs": [],
   "source": [
    "# import module and datas\n",
    "from sklearn.linear_model import Lasso\n",
    "from sklearn.datasets import load_breast_cancer\n",
    "from sklearn.model_selection import train_test_split\n",
    "cancer = load_breast_cancer()\n",
    "import matplotlib.pyplot as plt\n",
    "import numpy as np\n",
    "\n",
    "X_train, X_test, y_train, y_test = train_test_split(cancer.data, cancer.target, random_state=42)\n",
    "lasso = Lasso(alpha=0.01).fit(X_train, y_train)\n",
    "\n",
    "#The “slope” parameters (w), also called weights or coefficients\n",
    "slope = lasso.coef_\n",
    "\n",
    "#e the offset or intercept (b) is stored in the intercept_ attribute\n",
    "intercept = lasso.intercept_\n",
    "\n",
    "# training set score or eficient\n",
    "training_score = lasso.score(X_train, y_train)\n",
    "\n",
    "# test set score or eficient\n",
    "test_score = lasso.score(X_test, y_test)\n",
    "\n",
    "#Number of feature used\n",
    "feature_no = np.sum(lasso.coef_ != 0)\n"
   ]
  },
  {
   "cell_type": "code",
   "execution_count": 24,
   "id": "e13ab010-26ba-459d-948f-ba84ef1e2a88",
   "metadata": {},
   "outputs": [
    {
     "name": "stdout",
     "output_type": "stream",
     "text": [
      "TRAINING SCORE: 0.68\n",
      "TEST SCORE: 0.73\n",
      "NUMBER OF FEATURE USED: 8\n"
     ]
    }
   ],
   "source": [
    "print(\"TRAINING SCORE: {:.2f}\".format(training_score))\n",
    "print(\"TEST SCORE: {:.2f}\".format(test_score))\n",
    "print(\"NUMBER OF FEATURE USED: {}\".format(feature_no))"
   ]
  },
  {
   "cell_type": "code",
   "execution_count": null,
   "id": "9d4d9aad-1930-4f60-bc35-97350f80bbde",
   "metadata": {},
   "outputs": [],
   "source": []
  }
 ],
 "metadata": {
  "kernelspec": {
   "display_name": "Python 3 (ipykernel)",
   "language": "python",
   "name": "python3"
  },
  "language_info": {
   "codemirror_mode": {
    "name": "ipython",
    "version": 3
   },
   "file_extension": ".py",
   "mimetype": "text/x-python",
   "name": "python",
   "nbconvert_exporter": "python",
   "pygments_lexer": "ipython3",
   "version": "3.12.1"
  }
 },
 "nbformat": 4,
 "nbformat_minor": 5
}
