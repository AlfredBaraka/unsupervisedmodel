{
 "cells": [
  {
   "cell_type": "code",
   "execution_count": 1,
   "id": "f79235a1-64c4-45c4-864d-7aae2d4e357c",
   "metadata": {},
   "outputs": [],
   "source": [
    "# import module and datas\n",
    "from sklearn.linear_model import LinearRegression\n",
    "from sklearn.datasets import load_breast_cancer\n",
    "from sklearn.model_selection import train_test_split\n",
    "cancer = load_breast_cancer()\n",
    "\n",
    "X_train, X_test, y_train, y_test = train_test_split(cancer.data, cancer.target, random_state=42)\n",
    "lr = LinearRegression().fit(X_train, y_train)\n",
    "#The “slope” parameters (w), also called weights or coefficients\n",
    "slope = lr.coef_\n",
    "\n",
    "#e the offset or intercept (b) is stored in the intercept_ attribute\n",
    "intercept = lr.intercept_\n",
    "\n",
    "# training set score or eficient\n",
    "training_score = lr.score(X_train, y_train)\n",
    "\n",
    "# test set score or eficient\n",
    "test_score = lr.score(X_test, y_test)\n"
   ]
  },
  {
   "cell_type": "code",
   "execution_count": 2,
   "id": "1f55b387-13a0-4bfd-8e34-4d1e77c48409",
   "metadata": {},
   "outputs": [
    {
     "name": "stdout",
     "output_type": "stream",
     "text": [
      "TRAINING SCORE: 0.78\n",
      "TEST SCORE: 0.73\n"
     ]
    }
   ],
   "source": [
    "print(\"TRAINING SCORE: {:.2f}\".format(training_score))\n",
    "print(\"TEST SCORE: {:.2f}\".format(test_score))"
   ]
  },
  {
   "cell_type": "code",
   "execution_count": null,
   "id": "2a88c69b-7fd2-4190-9805-f695ee23d47d",
   "metadata": {},
   "outputs": [],
   "source": []
  }
 ],
 "metadata": {
  "kernelspec": {
   "display_name": "Python 3 (ipykernel)",
   "language": "python",
   "name": "python3"
  },
  "language_info": {
   "codemirror_mode": {
    "name": "ipython",
    "version": 3
   },
   "file_extension": ".py",
   "mimetype": "text/x-python",
   "name": "python",
   "nbconvert_exporter": "python",
   "pygments_lexer": "ipython3",
   "version": "3.12.1"
  }
 },
 "nbformat": 4,
 "nbformat_minor": 5
}
