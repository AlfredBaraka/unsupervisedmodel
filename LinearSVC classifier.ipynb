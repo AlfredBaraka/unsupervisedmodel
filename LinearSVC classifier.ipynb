{
 "cells": [
  {
   "cell_type": "code",
   "execution_count": 3,
   "id": "3f0cd91a-d2fe-425b-a76f-ba481464b540",
   "metadata": {},
   "outputs": [
    {
     "name": "stderr",
     "output_type": "stream",
     "text": [
      "C:\\Users\\Alfred\\AppData\\Local\\Programs\\Python\\Python312\\Lib\\site-packages\\sklearn\\svm\\_classes.py:32: FutureWarning: The default value of `dual` will change from `True` to `'auto'` in 1.5. Set the value of `dual` explicitly to suppress the warning.\n",
      "  warnings.warn(\n",
      "C:\\Users\\Alfred\\AppData\\Local\\Programs\\Python\\Python312\\Lib\\site-packages\\sklearn\\svm\\_base.py:1250: ConvergenceWarning: Liblinear failed to converge, increase the number of iterations.\n",
      "  warnings.warn(\n"
     ]
    }
   ],
   "source": [
    "# import modules and datas\n",
    "from sklearn.datasets import load_breast_cancer\n",
    "from sklearn.model_selection import train_test_split\n",
    "from sklearn.svm import LinearSVC\n",
    "\n",
    "# load data\n",
    "cancer = load_breast_cancer()\n",
    "\n",
    "# split train/test data\n",
    "X_train, X_test, y_train, y_test = train_test_split(cancer.data, cancer.target, stratify=cancer.target, random_state=42)\n",
    "\n",
    "#linear SVC model forming\n",
    "linsvm = LinearSVC().fit(X_train, y_train)"
   ]
  },
  {
   "cell_type": "code",
   "execution_count": 4,
   "id": "af178727-da4d-4a60-8f26-09c93bba375d",
   "metadata": {},
   "outputs": [
    {
     "name": "stdout",
     "output_type": "stream",
     "text": [
      "Training set score: 0.88\n",
      "Test set score: 0.91\n",
      "Coefficient shape:  (1, 30)\n",
      "Intercept shape:  (1,)\n"
     ]
    }
   ],
   "source": [
    "# Results\n",
    "print(\"Training set score: {:.2f}\".format(linsvm .score(X_train, y_train)))\n",
    "print(\"Test set score: {:.2f}\".format(linsvm .score(X_test, y_test)))\n",
    "print(\"Coefficient shape: \", linsvm.coef_.shape)\n",
    "print(\"Intercept shape: \", linsvm.intercept_.shape)"
   ]
  },
  {
   "cell_type": "code",
   "execution_count": 11,
   "id": "2e1c7c4b-60b6-4bef-8879-54b563e84c26",
   "metadata": {},
   "outputs": [],
   "source": [
    "y_pred = linsvm.predict(X_test)\n",
    "\n"
   ]
  },
  {
   "cell_type": "code",
   "execution_count": null,
   "id": "2871e2ec-ce38-4f96-960f-efae0679dc2d",
   "metadata": {},
   "outputs": [],
   "source": []
  }
 ],
 "metadata": {
  "kernelspec": {
   "display_name": "Python 3 (ipykernel)",
   "language": "python",
   "name": "python3"
  },
  "language_info": {
   "codemirror_mode": {
    "name": "ipython",
    "version": 3
   },
   "file_extension": ".py",
   "mimetype": "text/x-python",
   "name": "python",
   "nbconvert_exporter": "python",
   "pygments_lexer": "ipython3",
   "version": "3.12.1"
  }
 },
 "nbformat": 4,
 "nbformat_minor": 5
}
